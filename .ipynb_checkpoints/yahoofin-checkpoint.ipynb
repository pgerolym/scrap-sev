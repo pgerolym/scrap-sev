{
 "cells": [
  {
   "cell_type": "code",
   "execution_count": 7,
   "metadata": {},
   "outputs": [
    {
     "data": {
      "text/html": [
       "<div>\n",
       "<style scoped>\n",
       "    .dataframe tbody tr th:only-of-type {\n",
       "        vertical-align: middle;\n",
       "    }\n",
       "\n",
       "    .dataframe tbody tr th {\n",
       "        vertical-align: top;\n",
       "    }\n",
       "\n",
       "    .dataframe thead th {\n",
       "        text-align: right;\n",
       "    }\n",
       "</style>\n",
       "<table border=\"1\" class=\"dataframe\">\n",
       "  <thead>\n",
       "    <tr style=\"text-align: right;\">\n",
       "      <th></th>\n",
       "      <th>High</th>\n",
       "      <th>Low</th>\n",
       "      <th>Open</th>\n",
       "      <th>Close</th>\n",
       "      <th>Volume</th>\n",
       "      <th>Adj Close</th>\n",
       "    </tr>\n",
       "    <tr>\n",
       "      <th>Date</th>\n",
       "      <th></th>\n",
       "      <th></th>\n",
       "      <th></th>\n",
       "      <th></th>\n",
       "      <th></th>\n",
       "      <th></th>\n",
       "    </tr>\n",
       "  </thead>\n",
       "  <tbody>\n",
       "    <tr>\n",
       "      <td>2019-08-26</td>\n",
       "      <td>207.190002</td>\n",
       "      <td>205.059998</td>\n",
       "      <td>205.860001</td>\n",
       "      <td>206.490005</td>\n",
       "      <td>26043600.0</td>\n",
       "      <td>206.490005</td>\n",
       "    </tr>\n",
       "    <tr>\n",
       "      <td>2019-08-27</td>\n",
       "      <td>208.550003</td>\n",
       "      <td>203.529999</td>\n",
       "      <td>207.860001</td>\n",
       "      <td>204.160004</td>\n",
       "      <td>25873300.0</td>\n",
       "      <td>204.160004</td>\n",
       "    </tr>\n",
       "    <tr>\n",
       "      <td>2019-08-28</td>\n",
       "      <td>205.720001</td>\n",
       "      <td>203.320007</td>\n",
       "      <td>204.100006</td>\n",
       "      <td>205.529999</td>\n",
       "      <td>15938800.0</td>\n",
       "      <td>205.529999</td>\n",
       "    </tr>\n",
       "    <tr>\n",
       "      <td>2019-08-29</td>\n",
       "      <td>209.320007</td>\n",
       "      <td>206.660004</td>\n",
       "      <td>208.500000</td>\n",
       "      <td>209.009995</td>\n",
       "      <td>20990500.0</td>\n",
       "      <td>209.009995</td>\n",
       "    </tr>\n",
       "    <tr>\n",
       "      <td>2019-08-30</td>\n",
       "      <td>210.449997</td>\n",
       "      <td>207.199997</td>\n",
       "      <td>210.160004</td>\n",
       "      <td>208.740005</td>\n",
       "      <td>21143400.0</td>\n",
       "      <td>208.740005</td>\n",
       "    </tr>\n",
       "  </tbody>\n",
       "</table>\n",
       "</div>"
      ],
      "text/plain": [
       "                  High         Low        Open       Close      Volume  \\\n",
       "Date                                                                     \n",
       "2019-08-26  207.190002  205.059998  205.860001  206.490005  26043600.0   \n",
       "2019-08-27  208.550003  203.529999  207.860001  204.160004  25873300.0   \n",
       "2019-08-28  205.720001  203.320007  204.100006  205.529999  15938800.0   \n",
       "2019-08-29  209.320007  206.660004  208.500000  209.009995  20990500.0   \n",
       "2019-08-30  210.449997  207.199997  210.160004  208.740005  21143400.0   \n",
       "\n",
       "             Adj Close  \n",
       "Date                    \n",
       "2019-08-26  206.490005  \n",
       "2019-08-27  204.160004  \n",
       "2019-08-28  205.529999  \n",
       "2019-08-29  209.009995  \n",
       "2019-08-30  208.740005  "
      ]
     },
     "execution_count": 7,
     "metadata": {},
     "output_type": "execute_result"
    }
   ],
   "source": [
    "import pandas as pd\n",
    "import datetime\n",
    "import pandas_datareader.data as web\n",
    "from pandas import Series, DataFrame\n",
    "\n",
    "start = datetime.datetime(2018, 1, 1)\n",
    "end = datetime.datetime(2019, 8, 31)\n",
    "\n",
    "df = web.DataReader(\"AAPL\", 'yahoo', start, end)\n",
    "df.tail()"
   ]
  },
  {
   "cell_type": "code",
   "execution_count": 8,
   "metadata": {},
   "outputs": [
    {
     "data": {
      "text/plain": [
       "Date\n",
       "2019-08-19    197.160846\n",
       "2019-08-20    197.391602\n",
       "2019-08-21    197.632951\n",
       "2019-08-22    197.859698\n",
       "2019-08-23    197.960657\n",
       "2019-08-26    198.086917\n",
       "2019-08-27    198.186503\n",
       "2019-08-28    198.286788\n",
       "2019-08-29    198.391109\n",
       "2019-08-30    198.498685\n",
       "Name: Adj Close, dtype: float64"
      ]
     },
     "execution_count": 8,
     "metadata": {},
     "output_type": "execute_result"
    }
   ],
   "source": [
    "close_px = df['Adj Close']\n",
    "mavg = close_px.rolling(window=100).mean()\n",
    "mavg.tail(10)"
   ]
  },
  {
   "cell_type": "code",
   "execution_count": null,
   "metadata": {},
   "outputs": [],
   "source": []
  }
 ],
 "metadata": {
  "kernelspec": {
   "display_name": "Python 3",
   "language": "python",
   "name": "python3"
  },
  "language_info": {
   "codemirror_mode": {
    "name": "ipython",
    "version": 3
   },
   "file_extension": ".py",
   "mimetype": "text/x-python",
   "name": "python",
   "nbconvert_exporter": "python",
   "pygments_lexer": "ipython3",
   "version": "3.5.3"
  }
 },
 "nbformat": 4,
 "nbformat_minor": 4
}
